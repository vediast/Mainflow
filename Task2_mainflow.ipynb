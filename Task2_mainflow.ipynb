{
 "cells": [
  {
   "cell_type": "code",
   "execution_count": 18,
   "id": "73eaa7e6-4be4-4962-b2e6-40bfe9e54a3b",
   "metadata": {},
   "outputs": [],
   "source": [
    "import pandas as pd\n",
    "import numpy as np\n",
    "import matplotlib.pyplot as plt\n",
    "import seaborn as sns\n",
    "from scipy import stats"
   ]
  },
  {
   "cell_type": "code",
   "execution_count": 19,
   "id": "6427fa0c-370d-4c54-acbb-5af2057dc636",
   "metadata": {},
   "outputs": [],
   "source": [
    "# Load the dataset (replace the path with the actual path of your dataset)\n",
    "data = pd.read_csv(\"D:\\\\MainFlow\\\\Task2\\\\Global_Superstore2.csv\", encoding='ISO-8859-1')"
   ]
  },
  {
   "cell_type": "code",
   "execution_count": 20,
   "id": "66e4b946-2e85-4d49-9e7b-960e879c0738",
   "metadata": {},
   "outputs": [
    {
     "name": "stdout",
     "output_type": "stream",
     "text": [
      "   Row ID         Order ID  Order Date   Ship Date     Ship Mode Customer ID  \\\n",
      "0   32298   CA-2012-124891  31-07-2012  31-07-2012      Same Day    RH-19495   \n",
      "1   26341    IN-2013-77878  05-02-2013  07-02-2013  Second Class    JR-16210   \n",
      "2   25330    IN-2013-71249  17-10-2013  18-10-2013   First Class    CR-12730   \n",
      "3   13524  ES-2013-1579342  28-01-2013  30-01-2013   First Class    KM-16375   \n",
      "4   47221     SG-2013-4320  05-11-2013  06-11-2013      Same Day     RH-9495   \n",
      "\n",
      "      Customer Name      Segment           City            State  ...  \\\n",
      "0       Rick Hansen     Consumer  New York City         New York  ...   \n",
      "1     Justin Ritter    Corporate     Wollongong  New South Wales  ...   \n",
      "2      Craig Reiter     Consumer       Brisbane       Queensland  ...   \n",
      "3  Katherine Murray  Home Office         Berlin           Berlin  ...   \n",
      "4       Rick Hansen     Consumer          Dakar            Dakar  ...   \n",
      "\n",
      "         Product ID    Category Sub-Category  \\\n",
      "0   TEC-AC-10003033  Technology  Accessories   \n",
      "1   FUR-CH-10003950   Furniture       Chairs   \n",
      "2   TEC-PH-10004664  Technology       Phones   \n",
      "3   TEC-PH-10004583  Technology       Phones   \n",
      "4  TEC-SHA-10000501  Technology      Copiers   \n",
      "\n",
      "                                        Product Name     Sales Quantity  \\\n",
      "0  Plantronics CS510 - Over-the-Head monaural Wir...  2309.650        7   \n",
      "1          Novimex Executive Leather Armchair, Black  3709.395        9   \n",
      "2                  Nokia Smart Phone, with Caller ID  5175.171        9   \n",
      "3                     Motorola Smart Phone, Cordless  2892.510        5   \n",
      "4                     Sharp Wireless Fax, High-Speed  2832.960        8   \n",
      "\n",
      "  Discount    Profit  Shipping Cost  Order Priority  \n",
      "0      0.0  762.1845         933.57        Critical  \n",
      "1      0.1 -288.7650         923.63        Critical  \n",
      "2      0.1  919.9710         915.49          Medium  \n",
      "3      0.1  -96.5400         910.16          Medium  \n",
      "4      0.0  311.5200         903.04        Critical  \n",
      "\n",
      "[5 rows x 24 columns]\n"
     ]
    }
   ],
   "source": [
    "# Display the first few rows to understand the structure\n",
    "print(data.head())"
   ]
  },
  {
   "cell_type": "code",
   "execution_count": 21,
   "id": "c5e4fb68-2b55-447f-9b7a-6fcdf4c4e63a",
   "metadata": {},
   "outputs": [],
   "source": [
    "# Select only the numeric columns for filling missing values\n",
    "numeric_cols = data.select_dtypes(include=[np.number]).columns\n",
    "\n",
    "# Fill missing values in numeric columns with the median of each column\n",
    "data[numeric_cols] = data[numeric_cols].fillna(data[numeric_cols].median())\n",
    "\n",
    "# If you want to fill missing values for non-numeric columns, you can do it separately (e.g., with 'mode' or a placeholder)\n",
    "non_numeric_cols = data.select_dtypes(exclude=[np.number]).columns\n",
    "data[non_numeric_cols] = data[non_numeric_cols].fillna('Unknown')  # or use .mode() or any other strategy\n"
   ]
  },
  {
   "cell_type": "code",
   "execution_count": 22,
   "id": "f97852a3-e7ef-49b1-8912-65f8fe8b701c",
   "metadata": {},
   "outputs": [],
   "source": [
    "# Remove duplicates\n",
    "data.drop_duplicates(inplace=True)"
   ]
  },
  {
   "cell_type": "code",
   "execution_count": 23,
   "id": "065c8226-288d-4190-8a52-1f5bc2e652c2",
   "metadata": {},
   "outputs": [],
   "source": [
    "# Handle outliers\n",
    "## Using Z-score method to detect outliers\n",
    "z_scores = np.abs(stats.zscore(data.select_dtypes(include=[np.number])))  # Only numeric columns\n",
    "outliers = (z_scores > 3).all(axis=1)  # Define threshold (3 standard deviations)\n",
    "data_clean = data[~outliers]"
   ]
  },
  {
   "cell_type": "code",
   "execution_count": null,
   "id": "1e12f807-6369-437f-aec6-ba02dd2e6d08",
   "metadata": {},
   "outputs": [],
   "source": [
    "# Statistical Analysis\n",
    "## Mean, Median, Standard Deviation, and Variance\n",
    "print(\"Mean values:\\n\", data_clean.mean())\n",
    "print(\"Median values:\\n\", data_clean.median())\n",
    "print(\"Standard Deviation:\\n\", data_clean.std())\n",
    "print(\"Variance:\\n\", data_clean.var())"
   ]
  },
  {
   "cell_type": "code",
   "execution_count": null,
   "id": "b3e7e27a-7078-41f5-9beb-35e07f0133a6",
   "metadata": {},
   "outputs": [],
   "source": [
    "## Correlation matrix\n",
    "correlation_matrix = data_clean.corr()\n",
    "print(\"Correlation Matrix:\\n\", correlation_matrix)"
   ]
  },
  {
   "cell_type": "code",
   "execution_count": null,
   "id": "ffa8a240-40a5-4687-a56a-cb99c446c14d",
   "metadata": {},
   "outputs": [],
   "source": [
    "# Data Visualization\n",
    "## Histograms for numerical columns\n",
    "numerical_cols = data_clean.select_dtypes(include=[np.number]).columns\n",
    "data_clean[numerical_cols].hist(bins=15, figsize=(15, 10))\n",
    "plt.suptitle('Histograms of Numerical Columns')\n",
    "plt.show()"
   ]
  },
  {
   "cell_type": "code",
   "execution_count": null,
   "id": "6b952eb7-c9f5-4223-827a-f9006fd44a2b",
   "metadata": {},
   "outputs": [],
   "source": [
    "## Boxplots for outlier detection\n",
    "plt.figure(figsize=(12, 8))\n",
    "for i, col in enumerate(numerical_cols, 1):\n",
    "    plt.subplot(2, 3, i)  # Adjust the number of rows/columns based on your number of variables\n",
    "    sns.boxplot(x=data_clean[col])\n",
    "    plt.title(f'Boxplot for {col}')\n",
    "plt.tight_layout()\n",
    "plt.show()"
   ]
  },
  {
   "cell_type": "code",
   "execution_count": null,
   "id": "565a04a6-8d5a-4861-9fd5-deaae44cb514",
   "metadata": {},
   "outputs": [],
   "source": [
    "## Heatmap for correlation matrix\n",
    "plt.figure(figsize=(10, 8))\n",
    "sns.heatmap(correlation_matrix, annot=True, cmap='coolwarm', fmt='.2f', linewidths=0.5)\n",
    "plt.title('Correlation Heatmap')\n",
    "plt.show()"
   ]
  }
 ],
 "metadata": {
  "kernelspec": {
   "display_name": "Python 3 (ipykernel)",
   "language": "python",
   "name": "python3"
  },
  "language_info": {
   "codemirror_mode": {
    "name": "ipython",
    "version": 3
   },
   "file_extension": ".py",
   "mimetype": "text/x-python",
   "name": "python",
   "nbconvert_exporter": "python",
   "pygments_lexer": "ipython3",
   "version": "3.12.1"
  }
 },
 "nbformat": 4,
 "nbformat_minor": 5
}
